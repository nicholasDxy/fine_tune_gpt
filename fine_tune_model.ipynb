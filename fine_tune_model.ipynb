{
 "cells": [
  {
   "cell_type": "code",
   "execution_count": 2,
   "id": "7f9bf7a9",
   "metadata": {},
   "outputs": [],
   "source": [
    "import os\n",
    "import openai\n",
    "import jsonlines\n",
    "import tiktoken \n",
    "import datetime\n",
    "\n",
    "openai.api_key = os.getenv(\"OPENAI_API_KEY\")"
   ]
  },
  {
   "cell_type": "code",
   "execution_count": 3,
   "id": "379de821",
   "metadata": {},
   "outputs": [
    {
     "name": "stdout",
     "output_type": "stream",
     "text": [
      "File ID: file-exNqzLQ2MD5bsnMO8W9ItR9a, Filename: file, Created at: 2023-10-29 17:26:31\n"
     ]
    }
   ],
   "source": [
    "# check the uploaded files\n",
    "response = openai.File.list()\n",
    "\n",
    "for file in response['data']:\n",
    "    created_at = datetime.datetime.fromtimestamp(file['created_at']).strftime('%Y-%m-%d %H:%M:%S')\n",
    "    print(f\"File ID: {file['id']}, Filename: {file['filename']}, Created at: {created_at}\")"
   ]
  },
  {
   "cell_type": "code",
   "execution_count": 5,
   "id": "979384f5",
   "metadata": {},
   "outputs": [
    {
     "data": {
      "text/plain": [
       "<FineTuningJob fine_tuning.job id=ftjob-Kpmv51HPmG5n9eC2MHZoqZU3 at 0x112c6ea50> JSON: {\n",
       "  \"object\": \"fine_tuning.job\",\n",
       "  \"id\": \"ftjob-Kpmv51HPmG5n9eC2MHZoqZU3\",\n",
       "  \"model\": \"gpt-3.5-turbo-0613\",\n",
       "  \"created_at\": 1698662446,\n",
       "  \"finished_at\": null,\n",
       "  \"fine_tuned_model\": null,\n",
       "  \"organization_id\": \"org-MWtct4ruIBsIACK6VTRbJmRI\",\n",
       "  \"result_files\": [],\n",
       "  \"status\": \"validating_files\",\n",
       "  \"validation_file\": null,\n",
       "  \"training_file\": \"file-exNqzLQ2MD5bsnMO8W9ItR9a\",\n",
       "  \"hyperparameters\": {\n",
       "    \"n_epochs\": \"auto\"\n",
       "  },\n",
       "  \"trained_tokens\": null,\n",
       "  \"error\": null\n",
       "}"
      ]
     },
     "execution_count": 5,
     "metadata": {},
     "output_type": "execute_result"
    }
   ],
   "source": [
    "# create finetuning job\n",
    "openai.FineTuningJob.create(training_file=\"file-exNqzLQ2MD5bsnMO8W9ItR9a\", model=\"gpt-3.5-turbo\")"
   ]
  },
  {
   "cell_type": "code",
   "execution_count": 15,
   "id": "901f0911",
   "metadata": {},
   "outputs": [
    {
     "data": {
      "text/plain": [
       "<FineTuningJob fine_tuning.job id=ftjob-Kpmv51HPmG5n9eC2MHZoqZU3 at 0x106d471d0> JSON: {\n",
       "  \"object\": \"fine_tuning.job\",\n",
       "  \"id\": \"ftjob-Kpmv51HPmG5n9eC2MHZoqZU3\",\n",
       "  \"model\": \"gpt-3.5-turbo-0613\",\n",
       "  \"created_at\": 1698662446,\n",
       "  \"finished_at\": 1698663532,\n",
       "  \"fine_tuned_model\": \"ft:gpt-3.5-turbo-0613:personal::8FKGtKaq\",\n",
       "  \"organization_id\": \"org-MWtct4ruIBsIACK6VTRbJmRI\",\n",
       "  \"result_files\": [\n",
       "    \"file-Ex7cXJvHdUQkAr0JLPQ65AsQ\"\n",
       "  ],\n",
       "  \"status\": \"succeeded\",\n",
       "  \"validation_file\": null,\n",
       "  \"training_file\": \"file-exNqzLQ2MD5bsnMO8W9ItR9a\",\n",
       "  \"hyperparameters\": {\n",
       "    \"n_epochs\": 10\n",
       "  },\n",
       "  \"trained_tokens\": 87550,\n",
       "  \"error\": null\n",
       "}"
      ]
     },
     "execution_count": 15,
     "metadata": {},
     "output_type": "execute_result"
    }
   ],
   "source": [
    "# List 10 fine-tuning jobs\n",
    "# openai.FineTuningJob.list(limit=10)\n",
    "\n",
    "# Retrieve the state of a fine-tune\n",
    "openai.FineTuningJob.retrieve(\"ftjob-Kpmv51HPmG5n9eC2MHZoqZU3\")\n",
    "\n",
    "# Cancel a job\n",
    "# openai.FineTuningJob.cancel(\"ftjob-Kpmv51HPmG5n9eC2MHZoqZU3\")\n",
    "\n",
    "# List up to 10 events from a fine-tuning job\n",
    "# openai.FineTuningJob.list_events(id=\"ftjob-Kpmv51HPmG5n9eC2MHZoqZU3\", limit=10)\n",
    "\n",
    "# Delete a fine-tuned model (must be an owner of the org the model was created in)\n",
    "# openai.Model.delete(\"ft:gpt-3.5-turbo:acemeco:suffix:abc123\")"
   ]
  },
  {
   "cell_type": "code",
   "execution_count": 11,
   "id": "2d8771f7",
   "metadata": {},
   "outputs": [
    {
     "name": "stdout",
     "output_type": "stream",
     "text": [
      "{\n",
      "  \"role\": \"assistant\",\n",
      "  \"content\": \"Title: The Most Influential Teacher \\n\\nDescription: \\n\\nIntroduction:\\nThroughout our lives, there are individuals who leave a profound impact on us, shaping our thoughts, beliefs, and aspirations. In my case, that influential figure is my high school mathematics teacher, Mrs. Johnson. This essay will delve into the significant influence Mrs. Johnson had on me and the lasting impact she made.\\n\\nBody Paragraph 1: \\nTo begin with, Mrs. Johnson had a unique teaching style that captivated my attention and sparked my interest in mathematics. Unlike other teachers, she employed interactive methods, such as using visual aids and real-life examples, to make complex concepts understandable and relatable. Her ability to break down complicated mathematical problems into manageable steps not only enhanced my learning experience but also increased my confidence in tackling complex mathematical equations.\\n\\nBody Paragraph 2:\\nMoreover, Mrs. Johnson possessed an unwavering dedication to her students' success. She recognized my potential and constantly pushed me beyond my comfort zone, urging me to strive for excellence. Whether it was through regular one-on-one mentoring sessions or providing additional resources outside of class, she ensured that I had every opportunity to excel academically. Mrs. Johnson's persistent belief in my abilities and her continuous encouragement inspired me to set higher goals and work diligently to achieve them.\\n\\nBody Paragraph 3:\\nFurthermore, Mrs. Johnson served as a role model both personally and professionally. Her compassion, empathy, and genuine interest in her students' well-being left an indelible mark on all of us. She not only provided academic guidance but also acted as a pillar of support during challenging times. Mrs. Johnson's ability to connect with her students on a deeper level created an environment of trust and openness, enabling us to overcome obstacles and develop resilience.\\n\\nConclusion:\\nIn conclusion, Mrs. Johnson's influence on my life has been immeasurable. Her passion for teaching, dedication to her students, and ability to instill confidence in our abilities have not only shaped my academic journey but also inspired me to pursue a career in mathematics education. Mrs. Johnson's impact goes beyond the classroom; she has equipped me with valuable life skills, instilled a love for learning, and taught me the importance of perseverance. She will forever hold the title of the most influential teacher in my life.\"\n",
      "}\n"
     ]
    }
   ],
   "source": [
    "# get completion of gpt3.5\n",
    "completion = openai.ChatCompletion.create(\n",
    "  model=\"gpt-3.5-turbo\",\n",
    "  messages=[\n",
    "    {\"role\": \"system\", \"content\": \"You are a helpful assistant to write essays based on the given title and description.\"},\n",
    "    {\"role\": \"user\", \"content\": \"title:Most Influential Teacher. Description: Topic: Indicate a person who has had a significant influence on you, and describe that influence.\"}\n",
    "  ]\n",
    ")\n",
    "print(completion.choices[0].message)"
   ]
  },
  {
   "cell_type": "code",
   "execution_count": 16,
   "id": "412a71e9",
   "metadata": {},
   "outputs": [
    {
     "name": "stdout",
     "output_type": "stream",
     "text": [
      "{\n",
      "  \"role\": \"assistant\",\n",
      "  \"content\": \"Whether it had been a person, place, or thing, I am largely who I am today because of it's influences. I chose my influence with discretion, as I had been with this woman for nine years. I chose the woman who, eleven years ago, asked if I needed help tying my skates in a room full of blended colors and oversized snow jackets. The woman who every day until second grade would answer the monotonous question of, \\\"What's one plus one?\\\" The lady who, when the group got rough in third grade, would put her hand on mine as if to tell me she understood and she was there. The lady who I growled at when we were in fourth grade and I was dressed like the Pink Power Ranger for Halloween. The woman who, when it was time to pick our fuIf the [\\u2026] camp, had dubbed us the \\\"Lobster Patrol.\\\" The woman who had convinced me to go to a new summer [...] she had recently opened up. The woman who during summer camp seven years ago noticed my purple Bible and asked if I believed in God. The woman who every summer forced my sister to crawl commando-style for our Peanut M & M's. The woman who a couple of years ago turned to me on the Animal Kingdom ride that seemed to last forever and said, \\\"Keva, I'm scared.\\\" This woman is Kim Myrdahl.At the same time that I recognize Mrs. Myrdahl's influence on me, I find it equally difficult to pinpoint exactly how she has affected me because over the years the woman I considered my but parent has become my friend. Though most of her influence has shaped my morals, my beliefs, my treatment of others, what's harder to find are the little things such as the 'inside jokes' that only the two of us know.The more I think about my relationship with Mrs. Myrdahl, I realize that she has affected me in a broader sense than one particular message or belief. As I graduate from Harbor, the private school that she helped to create, I find that I feel a sense of unity with the other students. We've all been together for nine years and we've all been through her. When he left a couple of years ago after his student teaching session, I found out that he had been with Mrs. Myrdahl as well when he was my age and, as he says it, \\\"She's great.\\\" Mrs. Myrdahl has not only influenced me, but other students as well. So as I'm about to go my separate way, I find that I can rely on my fond memories and the person I've become with her influences in my life.The more I try to explain the person I've become and the person I think I'll be, the less I understand it. Maybe this is the type of explanation that can only be understood by others who have been influenced by Kim throughout the years. But if she asked me to explain it now, I know that she would chuckle that infectious laugh of hers and tell me that I'm thinking about it too much. I guess that when you find one person amongst the billions of others in this world that you've known for nine years and has affected you as much as she has, words don't really mean the same thing.So even though those typed out words up there were exactly 500, I hope that my true \\\"Thank you\\\" to Mrs. Myrdahl means more to you.You know, my version of \\\"more.\\\"\"\n",
      "}\n"
     ]
    }
   ],
   "source": [
    "# get completion of our fine-tuned model\n",
    "completion = openai.ChatCompletion.create(\n",
    "  model=\"ft:gpt-3.5-turbo-0613:personal::8FKGtKaq\",\n",
    "  messages=[\n",
    "    {\"role\": \"system\", \"content\": \"You are a helpful assistant to write essays based on the given title and description.\"},\n",
    "    {\"role\": \"user\", \"content\": \"title:Most Influential Teacher. Description: Topic: Indicate a person who has had a significant influence on you, and describe that influence.\"}\n",
    "  ]\n",
    ")\n",
    "print(completion.choices[0].message)"
   ]
  },
  {
   "cell_type": "code",
   "execution_count": null,
   "id": "d0f14395",
   "metadata": {},
   "outputs": [],
   "source": []
  }
 ],
 "metadata": {
  "kernelspec": {
   "display_name": "Python 3 (ipykernel)",
   "language": "python",
   "name": "python3"
  },
  "language_info": {
   "codemirror_mode": {
    "name": "ipython",
    "version": 3
   },
   "file_extension": ".py",
   "mimetype": "text/x-python",
   "name": "python",
   "nbconvert_exporter": "python",
   "pygments_lexer": "ipython3",
   "version": "3.11.5"
  }
 },
 "nbformat": 4,
 "nbformat_minor": 5
}
