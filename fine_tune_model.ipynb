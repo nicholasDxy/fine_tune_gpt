{
 "cells": [
  {
   "cell_type": "code",
   "execution_count": 1,
   "id": "7f9bf7a9",
   "metadata": {},
   "outputs": [],
   "source": [
    "import os\n",
    "import openai\n",
    "import jsonlines\n",
    "import tiktoken \n",
    "import datetime\n",
    "\n",
    "openai.api_key = os.getenv(\"OPENAI_API_KEY\")"
   ]
  },
  {
   "cell_type": "code",
   "execution_count": 8,
   "id": "b39ac439-6e75-44c7-9044-83d38a8357b4",
   "metadata": {},
   "outputs": [
    {
     "data": {
      "text/plain": [
       "<File file id=file-FyLSOqxGZ8mdoPgmnwnK47H4 at 0x117d3e630> JSON: {\n",
       "  \"object\": \"file\",\n",
       "  \"id\": \"file-FyLSOqxGZ8mdoPgmnwnK47H4\",\n",
       "  \"purpose\": \"fine-tune\",\n",
       "  \"filename\": \"file\",\n",
       "  \"bytes\": 55048,\n",
       "  \"created_at\": 1699523164,\n",
       "  \"status\": \"processed\",\n",
       "  \"status_details\": null\n",
       "}"
      ]
     },
     "execution_count": 8,
     "metadata": {},
     "output_type": "execute_result"
    }
   ],
   "source": [
    "\n",
    "#upload the training data.\n",
    "openai.File.create(file=open(\"data/train_data.jsonl\", \"rb\"),purpose='fine-tune')"
   ]
  },
  {
   "cell_type": "code",
   "execution_count": 9,
   "id": "379de821",
   "metadata": {},
   "outputs": [
    {
     "name": "stdout",
     "output_type": "stream",
     "text": [
      "File ID: file-FyLSOqxGZ8mdoPgmnwnK47H4, Filename: file, Created at: 2023-11-09 17:46:04\n",
      "File ID: file-b2d8Mi3bsVmQRoRSRRiN7X4V, Filename: step_metrics.csv, Created at: 2023-11-07 19:34:10\n",
      "File ID: file-Feei9Ga8aUVYwCIpnBwol7CO, Filename: example&document&definition.jsonl, Created at: 2023-11-07 17:33:00\n",
      "File ID: file-Qpr8N0HOkWbEllVh49FXD799, Filename: step_metrics.csv, Created at: 2023-11-05 23:44:41\n",
      "File ID: file-rOQcTlH8G9UrSUeO0Dpgozj1, Filename: file, Created at: 2023-11-05 23:39:52\n",
      "File ID: file-a8vBiTckJ4qISTo2H12JQpA8, Filename: file, Created at: 2023-11-05 23:18:23\n",
      "File ID: file-n9Hp2ewS9OdaYgWqAlF35Z82, Filename: data/data_call_prepared.jsonl, Created at: 2023-11-05 22:58:04\n",
      "File ID: file-zjBUwBfIPCMdlSiDaNT2ZmA5, Filename: compiled_results.csv, Created at: 2023-11-05 22:41:51\n",
      "File ID: file-3A05X4q2InFZ0A0GxMH5hodh, Filename: data/data_call_prepared.jsonl, Created at: 2023-11-05 22:39:30\n",
      "File ID: file-Vjq5XMXfB0Lv0hS0thIzWi4Q, Filename: data/data_call_prepared.jsonl, Created at: 2023-11-05 22:35:49\n",
      "File ID: file-Ex7cXJvHdUQkAr0JLPQ65AsQ, Filename: step_metrics.csv, Created at: 2023-10-30 18:58:57\n",
      "File ID: file-DDduHwLTK9eqaVNkBYw48wtV, Filename: step_metrics.csv, Created at: 2023-10-30 18:42:01\n",
      "File ID: file-exNqzLQ2MD5bsnMO8W9ItR9a, Filename: file, Created at: 2023-10-29 17:26:31\n"
     ]
    }
   ],
   "source": [
    "# check the uploaded files\n",
    "response = openai.File.list()\n",
    "\n",
    "for file in response['data']:\n",
    "    created_at = datetime.datetime.fromtimestamp(file['created_at']).strftime('%Y-%m-%d %H:%M:%S')\n",
    "    print(f\"File ID: {file['id']}, Filename: {file['filename']}, Created at: {created_at}\")"
   ]
  },
  {
   "cell_type": "code",
   "execution_count": 10,
   "id": "979384f5",
   "metadata": {},
   "outputs": [
    {
     "data": {
      "text/plain": [
       "<FineTuningJob fine_tuning.job id=ftjob-4bp5fhUln078FDrHsqaOXIGD at 0x117a1c3b0> JSON: {\n",
       "  \"object\": \"fine_tuning.job\",\n",
       "  \"id\": \"ftjob-4bp5fhUln078FDrHsqaOXIGD\",\n",
       "  \"model\": \"gpt-3.5-turbo-0613\",\n",
       "  \"created_at\": 1699523198,\n",
       "  \"finished_at\": null,\n",
       "  \"fine_tuned_model\": null,\n",
       "  \"organization_id\": \"org-MWtct4ruIBsIACK6VTRbJmRI\",\n",
       "  \"result_files\": [],\n",
       "  \"status\": \"validating_files\",\n",
       "  \"validation_file\": null,\n",
       "  \"training_file\": \"file-FyLSOqxGZ8mdoPgmnwnK47H4\",\n",
       "  \"hyperparameters\": {\n",
       "    \"n_epochs\": \"auto\",\n",
       "    \"batch_size\": \"auto\",\n",
       "    \"learning_rate_multiplier\": \"auto\"\n",
       "  },\n",
       "  \"trained_tokens\": null,\n",
       "  \"error\": null\n",
       "}"
      ]
     },
     "execution_count": 10,
     "metadata": {},
     "output_type": "execute_result"
    }
   ],
   "source": [
    "# create finetuning job\n",
    "openai.FineTuningJob.create(training_file=\"file-FyLSOqxGZ8mdoPgmnwnK47H4\", model=\"gpt-3.5-turbo\")"
   ]
  },
  {
   "cell_type": "code",
   "execution_count": 13,
   "id": "901f0911",
   "metadata": {},
   "outputs": [
    {
     "data": {
      "text/plain": [
       "<FineTuningJob fine_tuning.job id=ftjob-4bp5fhUln078FDrHsqaOXIGD at 0x106d0dfd0> JSON: {\n",
       "  \"object\": \"fine_tuning.job\",\n",
       "  \"id\": \"ftjob-4bp5fhUln078FDrHsqaOXIGD\",\n",
       "  \"model\": \"gpt-3.5-turbo-0613\",\n",
       "  \"created_at\": 1699523198,\n",
       "  \"finished_at\": 1699525627,\n",
       "  \"fine_tuned_model\": \"ft:gpt-3.5-turbo-0613:personal::8IwXcIFI\",\n",
       "  \"organization_id\": \"org-MWtct4ruIBsIACK6VTRbJmRI\",\n",
       "  \"result_files\": [\n",
       "    \"file-IdvSoNnlQKcgJqO0uKKRBnwJ\"\n",
       "  ],\n",
       "  \"status\": \"succeeded\",\n",
       "  \"validation_file\": null,\n",
       "  \"training_file\": \"file-FyLSOqxGZ8mdoPgmnwnK47H4\",\n",
       "  \"hyperparameters\": {\n",
       "    \"n_epochs\": 9,\n",
       "    \"batch_size\": 1,\n",
       "    \"learning_rate_multiplier\": 2\n",
       "  },\n",
       "  \"trained_tokens\": 102942,\n",
       "  \"error\": null\n",
       "}"
      ]
     },
     "execution_count": 13,
     "metadata": {},
     "output_type": "execute_result"
    }
   ],
   "source": [
    "# List 10 fine-tuning jobs\n",
    "# openai.FineTuningJob.list(limit=10)\n",
    "\n",
    "# Retrieve the state of a fine-tune\n",
    "# openai.FineTuningJob.retrieve(\"ftjob-Kpmv51HPmG5n9eC2MHZoqZU3\")\n",
    "openai.FineTuningJob.retrieve(\"ftjob-4bp5fhUln078FDrHsqaOXIGD\")\n",
    "\n",
    "# Cancel a job\n",
    "# openai.FineTuningJob.cancel(\"ftjob-Kpmv51HPmG5n9eC2MHZoqZU3\")\n",
    "\n",
    "# List up to 10 events from a fine-tuning job\n",
    "# openai.FineTuningJob.list_events(id=\"ftjob-Kpmv51HPmG5n9eC2MHZoqZU3\", limit=10)\n",
    "\n",
    "# Delete a fine-tuned model (must be an owner of the org the model was created in)\n",
    "# openai.Model.delete(\"ft:gpt-3.5-turbo:acemeco:suffix:abc123\")"
   ]
  },
  {
   "cell_type": "code",
   "execution_count": 14,
   "id": "2d8771f7",
   "metadata": {},
   "outputs": [
    {
     "name": "stdout",
     "output_type": "stream",
     "text": [
      "{\n",
      "  \"role\": \"assistant\",\n",
      "  \"content\": \"Personal Statement: Safeguarding Memories\\n\\nIn a world that seems to be moving at an ever-increasing pace, memories have become precious treasures, cherished fragments of our past that make us who we are. It is through these memories that we connect with our loved ones, understand our history, and shape our future. For as long as I can remember, preserving memories has been at the core of who I am. This passion was ignited by a personal experience that shaped my purpose and drove me to embark on a meaningful journey - the War Stories Project.\\n\\nAs a young child, I would walk hand in hand with my beloved grandfather, eagerly following the aroma of freshly baked sweet buns from a nearby cart. Those walks were moments of pure joy, etched in my heart forever. However, as the years passed by, a shadow began to fall over these cherished memories. My grandfather was diagnosed with Alzheimer's, and slowly but surely, he began to forget who I was. It was a devastating blow, an agonizing realization that made me deeply reflect upon the fragility of memory.\\n\\nInspired by this poignant experience, I made a vow to myself - I would do everything in my power to ensure that no memories were lost or forgotten. This led me to establish the War Stories Project, a heartfelt endeavor aimed at collecting and preserving the memories of World War II witnesses. As the coordinator of this initiative, I have had the privilege of interviewing survivors, activists, soldiers, and civilians whose lives were irrevocably shaped by one of the darkest chapters in human history.\\n\\nThe War Stories Project is more than just an archive of memories; it is a testament to the resilience and strength of the human spirit. It is a humble attempt to immortalize the sacrifices, the triumphs, and the trials of those who experienced the horrors of war firsthand. Each interview I conduct is a poignant reminder of the profound impact that storytelling can have on an individual's life. As I listen to the voices of these courageous individuals, it becomes clear that their stories are not just accounts of the past - they hold valuable lessons for the present and insights into the future.\\n\\nWith each passing year, we bear witness to the passage of time, and it is through projects like the War Stories Project that we can prevent the erosion of our collective memory. The urgency to safeguard these memories has intensified with a sense of purpose within me. I witness the weight of responsibility that rests upon my shoulders as I strive to capture, transcribe, and preserve the narratives of these courageous witnesses. Their stories serve as a constant reminder that every day, we inch closer to a world devoid of living testimonies to that pivotal part of history.\\n\\nRemembering our history is not simply an indulgence in nostalgia; rather, it is vital for our future. These stories weave together a tapestry of human strife, resilience, and hope that continues to shape our world today. They teach us invaluable lessons about the strength of unity, the cost of hatred, and the power of compassion. By connecting the past to the present, we can chart a more empathetic and enlightened path for the future.\\n\\nMy role as the coordinator of the War Stories Project is not just a title on my resume; it is an integral part of who I am. It is a privilege and an honor to provide a platform for these unsung heroes to share their truths and leave a lasting legacy. The War Stories Project has taught me the importance of empathy, compassion, and the significance of oral history in shaping our society.\\n\\nAs I stand on the precipice of pursuing further education, I am filled with a profound sense of purpose. I am eager to delve deeper into the realm of preserving memories, analyzing their impact, and exploring ways in which we can safeguard our collective heritage. By studying the intersections of history, psychology, and sociology, I hope to continue shedding light on the vital role that memories play in shaping individual and societal identities.\\n\\nIn conclusion, my journey towards safeguarding memories through the War Stories Project has been transformative. It is a testament to a defining moment in my life, one that has driven me to commit myself wholeheartedly to capturing and preserving the stories of those who have lived through the darkest of times. I am determined to continue on this path, to champion the power of memory, and to ensure that the legacy of those who came before us endures for generations to come.\"\n",
      "}\n"
     ]
    }
   ],
   "source": [
    "# get completion of gpt3.5\n",
    "completion = openai.ChatCompletion.create(\n",
    "  model=\"gpt-3.5-turbo\",\n",
    "  messages=[{\"role\": \"system\", \"content\": \" As a helpful assistant, your task is to write an impressive personal statement for a student who is applying for a study program. You will be provided with a title, requirements, and the user's experience to base your essay on. Your goal is to showcase the student's good character in a polished and compelling manner. To accurately reflect the author's point of view, you should use a first-person perspective and incorporate the word \\\"I\\\" throughout the essay.\"}, {\"role\": \"user\", \"content\": \"Title: Safeguarding Memories. Requirement : Common Application: Topic of Your Choice. Experience: I used to walk with my grandfather as a child, buying sweet buns from a cart. But as he developed Alzheimer's, he forgot who I was. This inspired me to start the War Stories Project, where we collect and preserve the memories of World War II witnesses. Now, as the coordinator, I interview survivors and manage the project. It's important to me because with each passing year, we lose more of these valuable witnesses. Remembering our history is crucial for our future.\"}]\n",
    ")\n",
    "print(completion.choices[0].message)"
   ]
  },
  {
   "cell_type": "code",
   "execution_count": 15,
   "id": "412a71e9",
   "metadata": {},
   "outputs": [
    {
     "name": "stdout",
     "output_type": "stream",
     "text": [
      "{\n",
      "  \"role\": \"assistant\",\n",
      "  \"content\": \"Safeguarding Memories\\n\\nI used to walk downtown with my grandfather. As we strolled burgeoning flower beds and past old oaks, we bought sweet buns from the bakery cart. I vividly remember the toasty-sweet smell that wafted through the dusky air as my grandfather and I waited our turn. However, my grandfather doesn't.\\nAt the age of five years old, I understood Alzheimer's in only the most simplistic emotions. \\\"Why?\\\" I asked my mother, \\\"can't Grandpa remember what I did? Why can't I remind him?\\\" It broke my child's heart when my mother sadly whispered, \\\"He can't, dear.\\\"For an instant, I think, I glimpsed the suffering of the disease that slowly sucked away the person I once knew as my grandfather. Slowly, he no longer recognized who I was.\\nIt is not only my grandfather that this is happening to. Since 1992, about 20 million Alzheimer's patients have been reported. It is estimated that a new case is diagnosed about every 72 seconds.This crisis, as I saw it, was a massive crumbling in our world. Not enough was being done - not enough care, not enough cure. In the shadow of my grandfather's disease, the pain of thousands of others became my own.\\nExploring possible cures, I read about using \\\"environmental stimulation\\\" to spark the memories of Alzheimer's patients. This phrase created a paradigm shift in me. While it would be years before that phrase would even become the seed for the idea, it somehow created a want, a need to do something.\\nThe idea for the War Stories Project didn't just come to me. Rather it grew, morphing and building like an expansive snowball. What if I recorded the memories of people who had Alzheimer's? If their memory is so frail, when dementia has stripped so many of the layers of their mind, what, if anything, remains that dementia cannot usurp?\\nFrom this embryo I realized the potential not only for people with Alzheimer's, but for all elderly citizens. And then, inevitably, I understood that it could not only be a connection to the past, preserving the lives of people for the memories of their descendants. But, as I perceived that each second sped up towards another World War II veteran's death, I increasingly believed it could serve a more vital purpose.\\nOn June 30, 2007, I record an interview from Sandy's hands, a Holocaust survivor. In the middle of her story, I stop her and ask, \\\"What's going to happen when you guys are all gone, when there's no one left to tell the story of the Holocaust, the story of World War II?\\\" She closes her eyes for a second, and says, \\\"I lose sleep about it most nights.\\\"\\nLost sleep? Vice-president of the Egyptian community and fervent activist for Holocaust education - she volunteers about 70 hours of her time per week, trying to get the word out. Seventy hours! This is a proof that relativity is not just for physics; after all, as an upcoming junior I'm soon to short many hours' total of my sleep for a challenging school year - right?\\nThere was a brief second after she responded that I lost my voice. I still cannot hear her voice, but I can remember it wordlessly in the shrug and eyebrow-smile that followed her declaration. Seventy hours. Just thinking about the swift flames dancing around her story which, when flickering to mere embers in her eyes, will be frozen for eternity in a library of voices, repels a fearsome tingling up my arms.\\nThus, the War Stories Project is not just a way to give the elderly a voice. As I fumble with the tripod and clasp the final strap of which I am now accustomed to being responsible for, I know that each interview, every step in this labored and meticulous undertaking is crucial.\\nA fter all, remembering our history is the key to our future.\"\n",
      "}\n"
     ]
    }
   ],
   "source": [
    "# get completion of our fine-tuned model\n",
    "completion = openai.ChatCompletion.create(\n",
    "  model=\"ft:gpt-3.5-turbo-0613:personal::8IwXcIFI\",\n",
    "  messages=[{\"role\": \"system\", \"content\": \" As a helpful assistant, your task is to write an impressive personal statement for a student who is applying for a study program. You will be provided with a title, requirements, and the user's experience to base your essay on. Your goal is to showcase the student's good character in a polished and compelling manner. To accurately reflect the author's point of view, you should use a first-person perspective and incorporate the word \\\"I\\\" throughout the essay.\"}, {\"role\": \"user\", \"content\": \"Title: Safeguarding Memories. Requirement : Common Application: Topic of Your Choice. Experience: I used to walk with my grandfather as a child, buying sweet buns from a cart. But as he developed Alzheimer's, he forgot who I was. This inspired me to start the War Stories Project, where we collect and preserve the memories of World War II witnesses. Now, as the coordinator, I interview survivors and manage the project. It's important to me because with each passing year, we lose more of these valuable witnesses. Remembering our history is crucial for our future.\"}]\n",
    ")\n",
    "print(completion.choices[0].message)"
   ]
  },
  {
   "cell_type": "code",
   "execution_count": null,
   "id": "d0f14395",
   "metadata": {},
   "outputs": [],
   "source": []
  }
 ],
 "metadata": {
  "kernelspec": {
   "display_name": "Python 3 (ipykernel)",
   "language": "python",
   "name": "python3"
  },
  "language_info": {
   "codemirror_mode": {
    "name": "ipython",
    "version": 3
   },
   "file_extension": ".py",
   "mimetype": "text/x-python",
   "name": "python",
   "nbconvert_exporter": "python",
   "pygments_lexer": "ipython3",
   "version": "3.11.6"
  }
 },
 "nbformat": 4,
 "nbformat_minor": 5
}
