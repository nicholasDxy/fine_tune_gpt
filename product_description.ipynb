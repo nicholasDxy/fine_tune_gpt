{
 "cells": [
  {
   "cell_type": "code",
   "execution_count": 19,
   "id": "0417d592-2b80-4650-83bf-f6bf8fe59077",
   "metadata": {},
   "outputs": [],
   "source": [
    "import pandas as pd\n",
    "import tiktoken\n",
    "from openai import OpenAI\n",
    "from ast import literal_eval\n",
    "import os\n",
    "\n",
    "client = OpenAI(\n",
    "    # This is the default and can be omitted\n",
    "    api_key= os.getenv(\"OPENAI_API_KEY\"),\n",
    ")"
   ]
  },
  {
   "cell_type": "code",
   "execution_count": 5,
   "id": "6d8f7abb-5841-44f1-979a-f828419bbf80",
   "metadata": {},
   "outputs": [],
   "source": [
    "import pandas as pd\n",
    "import tiktoken\n",
    "\n",
    "embedding_model = \"text-embedding-3-small\"\n",
    "embedding_encoding = \"cl100k_base\"\n",
    "max_tokens = 8000 \n",
    "\n",
    "df = pd.read_csv('upwork-sample.csv')"
   ]
  },
  {
   "cell_type": "code",
   "execution_count": 8,
   "id": "9b4c5a6d-f907-47c1-b45c-7553ace95d8e",
   "metadata": {},
   "outputs": [],
   "source": [
    "product1 = df.loc[0]"
   ]
  },
  {
   "cell_type": "code",
   "execution_count": 9,
   "id": "e15f582f-6969-4176-bafe-78062ba7100f",
   "metadata": {},
   "outputs": [
    {
     "data": {
      "text/plain": [
       "Page Attribute            https://fivestartrading-holland.eu/beverages/a...\n",
       "product                   Hata Kosen Ramune Pineapple (30 x 0,2 Liter bo...\n",
       "weight                                                Shipping Weight: 24kg\n",
       "price per                                            Price per Liter € 6,67\n",
       "price                                                               € 39,99\n",
       "ean                                                                     NaN\n",
       "brand                                                                Ramune\n",
       "product type                                                            NaN\n",
       "category                                        Home,Beverages,Asian drinks\n",
       "Description               For those who are not yet familiar with Hata K...\n",
       "nutration table           <tbody><tr><td><div><span><span>Average nutrit...\n",
       "condition                 Pay in 30 days\\r\\n\\r\\n Fast delivery\\r\\n\\r\\n E...\n",
       "Fabrikant Distributeur    Nizona Corporation Hamabe Dori 4-1-23, Kobe 65...\n",
       "mention tva               excl. VAT and shipping costs, delivered in 5-1...\n",
       "Retourneren Mogelijk                               Return possible: 30 Days\n",
       "logo                      https://fivestartrading-holland.eu/wp-content/...\n",
       "Image 1                   https://fivestartrading-holland.eu/wp-content/...\n",
       "Image 2                                                                 NaN\n",
       "Image 3                                                                 NaN\n",
       "Image 4                                                                 NaN\n",
       "Image 5                                                                 NaN\n",
       "Image 6                                                                 NaN\n",
       "Name: 0, dtype: object"
      ]
     },
     "execution_count": 9,
     "metadata": {},
     "output_type": "execute_result"
    }
   ],
   "source": [
    "product1"
   ]
  },
  {
   "cell_type": "code",
   "execution_count": 32,
   "id": "663a6397-7391-46c0-93c0-6ac2a3a916b8",
   "metadata": {},
   "outputs": [],
   "source": [
    "SYS_PROMPT = \"As a product recommendation assistant, your task is to use GPT to generate product descriptions that are attractive and passionate to potential clients based on the product's category. Your goal is to create descriptions that are unique, well-structured, conversion-optimized, and reader-friendly. Use reasonable segmentation and exclamation mark to highlight product characteristics without emoji. Directly return the descriptions without transitional sentences.\"\n",
    "USER_PROMPT = \"product: {}; brand: {}; category: {}; description: {};\""
   ]
  },
  {
   "cell_type": "code",
   "execution_count": 12,
   "id": "d50fa0b4-2d96-4ae4-a005-855a01ed6447",
   "metadata": {},
   "outputs": [
    {
     "data": {
      "text/plain": [
       "'product: Hata Kosen Ramune Pineapple (30 x 0,2 Liter bottles JP) 001385; brand: Ramune; category: Home,Beverages,Asian drinks; description: For those who are not yet familiar with Hata Kosen Ramune Pineapple: it is a refreshing, sparkling Japanese soft drink with pineapple flavor. Ramune is Japanese for lemonade. This product comes in a very unusual glass bottle. It is widely purchased worldwide for the bottle alone. The bottle is sealed with a glass marble. To open the bottle you have to push this marble into the bottle, which will cause it to rattle in the bottle while you drink. Ramune is available in various refreshing flavors. Hata Kosen Ramune Pineapple Japan Import, 30 bottles (30 x 0,2L). Ingredients: carbonated water, sugar, high fructose corn syrup, acidulant [citric acid (E330)], flavoring (pineapple), coloring [tartrazine (E102)].;'"
      ]
     },
     "execution_count": 12,
     "metadata": {},
     "output_type": "execute_result"
    }
   ],
   "source": [
    "USER_PROMPT.format(product1['product'], product1['brand'], product1['category'], product1['Description'])"
   ]
  },
  {
   "cell_type": "code",
   "execution_count": 27,
   "id": "3fd98f8e-c02a-481e-b080-28fdca63136e",
   "metadata": {},
   "outputs": [
    {
     "name": "stdout",
     "output_type": "stream",
     "text": [
      "Indulge in the exotic and invigorating taste of Hata Kosen Ramune Pineapple! 🍍 Savor the refreshing sparkle of this Japanese soft drink that will transport your taste buds to tropical paradise with every sip! Discover the unique tradition of Ramune, meaning lemonade in Japanese, encapsulated in a distinctive glass bottle that is a true work of art on its own! 🎨 \n",
      "\n",
      "Experience the thrill of opening each bottle sealed with a glass marble, releasing a symphony of rattling sounds that enhance your drinking pleasure! 🎶 Let the tantalizing pineapple flavor dance on your palate, crafted from carbonated water, sugar, and high fructose corn syrup for a blissful taste sensation! 🌟\n",
      "\n",
      "Be captivated by the vibrant colors and invigorating aroma that promise a delightful sensory journey with every sip! Don't miss out on this authentic Japanese import that guarantees 30 bottles of pure joy and refreshment! 🎉 Unleash your thirst for adventure with Hata Kosen Ramune Pineapple and let each bottle transport you to a realm of tropical bliss! 🌴\n"
     ]
    }
   ],
   "source": [
    "response = client.chat.completions.create(\n",
    "      model=\"gpt-3.5-turbo\",\n",
    "      messages=[\n",
    "        {\"role\": \"system\", \"content\": SYS_PROMPT},\n",
    "        {\"role\": \"user\", \"content\": USER_PROMPT.format(product1['product'], product1['brand'], product1['category'], product1['Description'])},\n",
    "      ],\n",
    "    )\n",
    "print(response.choices[0].message.content)"
   ]
  },
  {
   "cell_type": "code",
   "execution_count": 30,
   "id": "0147a007-d9b9-4a1b-8316-7bafc71b4ded",
   "metadata": {},
   "outputs": [
    {
     "data": {
      "text/plain": [
       "'product: Crying Thaiger Sriracha Hot Chilli Sauce (4 x 440 ml); brand: Crying Thaiger; category: Home,Food; description: Crying Thaiger Sriracha Hot Chilli Sauce is hot sriracha sauce with notes of hot pepper, chili and garlic. Crying Thaiger sauces are ideal for Asian recipes, grilled meats, hamburgers, hot dogs, burgers, dressings, fries or as a dip for chips and crackers. Crying Thaiger Sriracha Hot Chilli Sauce, 4 Bottles (4 x 440ml),Crying Thaiger will become your new favorite sriracha sauce. The recipe was created by a team of experts who worked day and night to discover the best blend of ingredients for the perfect sriracha. The result: a nicely balanced taste accompanied by a nice spicy kick. It is 100% Thai and 100% sulfate free. And let’s be honest: the cool design of this bottle will look great on your dining table. Ingredients: 40% red chili, water, sugar, garlic, fructose syrup, salt, modified corn starch, acidity regulators (E260), stabilizer (E415), coloring agent (E160c).;'"
      ]
     },
     "execution_count": 30,
     "metadata": {},
     "output_type": "execute_result"
    }
   ],
   "source": [
    "product = df.loc[1]\n",
    "USER_PROMPT.format(product['product'], product['brand'], product['category'], product['Description'])"
   ]
  },
  {
   "cell_type": "code",
   "execution_count": 33,
   "id": "f5ad80df-f6e5-4ada-8443-edf2f58f41c1",
   "metadata": {},
   "outputs": [
    {
     "name": "stdout",
     "output_type": "stream",
     "text": [
      "Get ready to elevate your meals to the next level with Crying Thaiger Sriracha Hot Chilli Sauce! Experience the perfect blend of hot peppers, chili, and garlic in this 100% Thai, 100% sulfate-free concoction. Ideal for Asian dishes, grilled meats, burgers, fries, and more, this sauce is your must-have kitchen companion. Created by a dedicated team of experts, each bottle boasts a balanced flavor profile with a satisfying spicy kick. Plus, with its cool design, this sriracha sauce will not only tantalize your taste buds but also add flair to your dining table. Spice up your culinary adventures with Crying Thaiger Sriracha Hot Chilli Sauce – your new favorite go-to condiment!\n"
     ]
    }
   ],
   "source": [
    "response = client.chat.completions.create(\n",
    "      model=\"gpt-3.5-turbo\",\n",
    "      messages=[\n",
    "        {\"role\": \"system\", \"content\": SYS_PROMPT},\n",
    "        {\"role\": \"user\", \"content\": USER_PROMPT.format(product['product'], product['brand'], product['category'], product['Description'])},\n",
    "      ],\n",
    "    )\n",
    "print(response.choices[0].message.content)"
   ]
  },
  {
   "cell_type": "code",
   "execution_count": 34,
   "id": "b9a35d90-03e3-4bcd-bdc1-aac83d0dc6e1",
   "metadata": {},
   "outputs": [
    {
     "data": {
      "text/plain": [
       "'product: Pringles Hot & Spicy (12 x 40 gr.); brand: Pringles; category: Home,Snack foods; description: Are you also ready for a spicy evening? Then try Pringles Hot & Spicy in a handy resealable can, bursting with flavour. Chips are fragile. Unfortunately, if some chips break during shipping, we can’t do anything about it. It goes without saying that we pack your snacks as carefully as possible. Pringles\\xa0Hot & Spicy (12 x 40 gr.),\\u200bIngredients: Dehydrated potatoes, vegetable oils (sunflower, corn), rice flour, wheat starch, corn flour, spicy condiment (spices, sugar, flavor enhancers, tomato powder, granulated broth, flavors, smoke flavorings, yeast extract , dextrose, glucose syrup, nutritional acid, milk proteins, onion powder, jalapeñope pepper extract, paprika, chili powder, garlic powder, color (paprika extract}), emulsifier (E471), maltodextrin, salt, color (annatto).;'"
      ]
     },
     "execution_count": 34,
     "metadata": {},
     "output_type": "execute_result"
    }
   ],
   "source": [
    "product = df.loc[2]\n",
    "USER_PROMPT.format(product['product'], product['brand'], product['category'], product['Description'])"
   ]
  },
  {
   "cell_type": "code",
   "execution_count": 35,
   "id": "53850f2a-df77-4eb8-8dde-bbd1332bb544",
   "metadata": {},
   "outputs": [
    {
     "name": "stdout",
     "output_type": "stream",
     "text": [
      "Indulge in a spicy sensation with Pringles Hot & Spicy! Packed in a convenient resealable can, these chips are bursting with bold flavor that will leave your taste buds tingling for more. Made with a perfect blend of dehydrated potatoes, vegetable oils, and a fiery spicy condiment, each bite offers a crunchy texture and an explosion of mouth-watering taste. Perfect for snacking on the go or enjoying a movie night at home, these Pringles Hot & Spicy chips are sure to spice up any occasion!\n"
     ]
    }
   ],
   "source": [
    "response = client.chat.completions.create(\n",
    "      model=\"gpt-3.5-turbo\",\n",
    "      messages=[\n",
    "        {\"role\": \"system\", \"content\": SYS_PROMPT},\n",
    "        {\"role\": \"user\", \"content\": USER_PROMPT.format(product['product'], product['brand'], product['category'], product['Description'])},\n",
    "      ],\n",
    "    )\n",
    "print(response.choices[0].message.content)"
   ]
  }
 ],
 "metadata": {
  "kernelspec": {
   "display_name": "Python 3 (ipykernel)",
   "language": "python",
   "name": "python3"
  },
  "language_info": {
   "codemirror_mode": {
    "name": "ipython",
    "version": 3
   },
   "file_extension": ".py",
   "mimetype": "text/x-python",
   "name": "python",
   "nbconvert_exporter": "python",
   "pygments_lexer": "ipython3",
   "version": "3.11.6"
  }
 },
 "nbformat": 4,
 "nbformat_minor": 5
}
