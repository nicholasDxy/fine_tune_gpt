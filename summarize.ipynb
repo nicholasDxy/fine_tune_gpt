{
 "cells": [
  {
   "cell_type": "code",
   "execution_count": 19,
   "id": "6e29b82f-7064-42c1-ba28-b5edee71cea9",
   "metadata": {},
   "outputs": [],
   "source": [
    "import os\n",
    "import openai\n",
    "import jsonlines\n",
    "import tiktoken \n",
    "import datetime\n",
    "import jsonlines\n",
    "import time\n",
    "\n",
    "openai.api_key = os.getenv(\"OPENAI_API_KEY\")\n",
    "\n",
    "doc_list = []\n",
    "\n",
    "with open(\"data/doc_info.jsonl\", \"r+\", encoding=\"utf8\") as f:\n",
    "    for item in jsonlines.Reader(f):\n",
    "        doc_list.append(item)\n",
    "        # print(item['title'])\n",
    "\n",
    "# print(doc_list[0]['content'])\n",
    "\n"
   ]
  },
  {
   "cell_type": "code",
   "execution_count": 23,
   "id": "f76c1211-19ef-47e7-8ceb-f5a2e707cc2f",
   "metadata": {},
   "outputs": [],
   "source": [
    "summary_info = []\n",
    "with open(\"data/summary_info.jsonl\", \"r+\", encoding=\"utf8\") as f:\n",
    "    for item in jsonlines.Reader(f):\n",
    "        summary_info.append(item)\n",
    "        # print(item['title'])\n"
   ]
  },
  {
   "cell_type": "code",
   "execution_count": 25,
   "id": "6a96b206-a4ca-4edd-9759-a414e0e34e82",
   "metadata": {},
   "outputs": [
    {
     "data": {
      "text/plain": [
       "'Leaping over crooked crevices in the sidewalk, my childhood self hopped a few yards ahead of my grandfather. As I paused to scrutinize a colorful candy wrapper, the smell of melting sugar drifted from a small blue cart where an old woman flipped flat buns on a pan. Grandpa always bought two buns: one for him and one for me.Not long before my fourteenth birthday, my grandfather was diagnosed with a severe case of Alzheimer’s, and shortly afterwards, he moved into a nursing home. Upon entering his room, I shouted “Hi Grandpa!”Grandpa murmured, “Who are you?”The next day, I bought two of the sweet buns Grandpa and I had enjoyed.“Grandpa, do you want one of these?”He paused, then said, “No. Who are you?”Leaving the buns in the paper bag, I replied, “I’m Rachael, your granddaughter.”Eyes widening, he gasped, “You have to get out of here; the communists are guarding this place!”I explained, “No, the Korean War is over! You’re safe in America.” With a small sigh, I returned home for the day.Now, after more than three years, Grandpa recognizes me when I step into his room. However, he cannot connect the round-faced child beside the bun cart to the person I am today. Once a memory slides past the grip of his mind, it can never return.This troubling truth has motivated me to preserve the memories of others in my grandfather’s generation through the War Stories Project. A year after joining the volunteer effort, I have become the coordinator of the project. Fellow volunteers and I collect the experiences of World War II witnesses and collaborate with local colleges to produce a documentary and companion anthology for high school students.While managing the project, I interviewed Holocaust survivor Bruno Bienenfeld, who unraveled the touching story of his childhood. In 1943, his family was taken to the Jasenovic concentration camp, where they were only given one piece of bread a day. But one day, he reached under his threadbare pillow and found another piece of bread. His mother said that it was an answer to his prayers. The young Bruno asked, “Are there Jewish angels?” His mother smiled and said, “There are angels for all people on earth.” Every day, Bruno found an extra bit of bread under his pillow, but after three hard months, his mother died, and the deliveries ceased. He told his father “The angel didn’t put the bread under the pillow tonight.” His father replied, “He was too busy taking Mom to heaven.”Working with primary sources like Mr. Bienenfeld, I learn about World War II from the people who lived it. I also delegate tasks and teach volunteers how to search for and sort images to be used in the documentary. In addition to the responsibilities of coordinator, I have taken on the position of Fundraising Head for the project. Besides speaking publicly on behalf of the War Stories Project in fundraising efforts, I also burn the midnight oil writing letters to more than 200 corporations and local businesses, looking up addresses, and licking envelopes until my mouth goes dry.Each year, more and more World War II veterans and Holocaust survivors pass away, and the loss of these valuable witnesses reminds me of the urgency to preserve their life stories. Just as Grandpa forgot eating sugar-filled buns with me, we can fail to remember what our world has endured. Whether the record of our past must serve as a lesson or reminiscence, we must look back at the path of our history before laying the cobblestones of the future.'"
      ]
     },
     "execution_count": 25,
     "metadata": {},
     "output_type": "execute_result"
    }
   ],
   "source": [
    "summary_info[0]['content']"
   ]
  },
  {
   "cell_type": "code",
   "execution_count": 28,
   "id": "f26ef5f5-4991-4f0c-876e-59a8660259eb",
   "metadata": {},
   "outputs": [
    {
     "ename": "APIError",
     "evalue": "Bad gateway. {\"error\":{\"code\":502,\"message\":\"Bad gateway.\",\"param\":null,\"type\":\"cf_bad_gateway\"}} 502 {'error': {'code': 502, 'message': 'Bad gateway.', 'param': None, 'type': 'cf_bad_gateway'}} {'Date': 'Thu, 09 Nov 2023 14:16:24 GMT', 'Content-Type': 'application/json', 'Content-Length': '84', 'Connection': 'keep-alive', 'X-Frame-Options': 'SAMEORIGIN', 'Referrer-Policy': 'same-origin', 'Cache-Control': 'private, max-age=0, no-store, no-cache, must-revalidate, post-check=0, pre-check=0', 'Expires': 'Thu, 01 Jan 1970 00:00:01 GMT', 'Server': 'cloudflare', 'CF-RAY': '82369dbbbf5c0501-HKG', 'alt-svc': 'h3=\":443\"; ma=86400'}",
     "output_type": "error",
     "traceback": [
      "\u001b[0;31m---------------------------------------------------------------------------\u001b[0m",
      "\u001b[0;31mAPIError\u001b[0m                                  Traceback (most recent call last)",
      "Cell \u001b[0;32mIn[28], line 3\u001b[0m\n\u001b[1;32m      1\u001b[0m message\u001b[38;5;241m=\u001b[39m[{\u001b[38;5;124m\"\u001b[39m\u001b[38;5;124mrole\u001b[39m\u001b[38;5;124m\"\u001b[39m: \u001b[38;5;124m\"\u001b[39m\u001b[38;5;124msystem\u001b[39m\u001b[38;5;124m\"\u001b[39m, \u001b[38;5;124m\"\u001b[39m\u001b[38;5;124mcontent\u001b[39m\u001b[38;5;124m\"\u001b[39m: \u001b[38;5;124m\"\u001b[39m\u001b[38;5;124m As a helpful assistant, your job is to summarize a student\u001b[39m\u001b[38;5;124m'\u001b[39m\u001b[38;5;124ms personal experience essay using simple language and a first-person perspective. You will be given the essay and must provide a concise and clear summary from the author\u001b[39m\u001b[38;5;124m'\u001b[39m\u001b[38;5;124ms point of view. Your summary should use the word \u001b[39m\u001b[38;5;130;01m\\\"\u001b[39;00m\u001b[38;5;124mI\u001b[39m\u001b[38;5;130;01m\\\"\u001b[39;00m\u001b[38;5;124m to reflect the author\u001b[39m\u001b[38;5;124m'\u001b[39m\u001b[38;5;124ms perspective\u001b[39m\u001b[38;5;124m\"\u001b[39m}, {\u001b[38;5;124m\"\u001b[39m\u001b[38;5;124mrole\u001b[39m\u001b[38;5;124m\"\u001b[39m: \u001b[38;5;124m\"\u001b[39m\u001b[38;5;124muser\u001b[39m\u001b[38;5;124m\"\u001b[39m, \u001b[38;5;124m\"\u001b[39m\u001b[38;5;124mcontent\u001b[39m\u001b[38;5;124m\"\u001b[39m: \u001b[38;5;124m\"\u001b[39m\u001b[38;5;124mTitle: Safeguarding Memories. Requirement : Common Application: Topic of Your Choice. Experience: I used to walk with my grandfather as a child, buying sweet buns from a cart. But as he developed Alzheimer\u001b[39m\u001b[38;5;124m'\u001b[39m\u001b[38;5;124ms, he forgot who I was. This inspired me to start the War Stories Project, where we collect and preserve the memories of World War II witnesses. Now, as the coordinator, I interview survivors and manage the project. It\u001b[39m\u001b[38;5;124m'\u001b[39m\u001b[38;5;124ms important to me because with each passing year, we lose more of these valuable witnesses. Remembering our history is crucial for our future.\u001b[39m\u001b[38;5;124m\"\u001b[39m}]\n\u001b[1;32m      2\u001b[0m message[\u001b[38;5;241m1\u001b[39m][\u001b[38;5;124m'\u001b[39m\u001b[38;5;124mcontent\u001b[39m\u001b[38;5;124m'\u001b[39m] \u001b[38;5;241m=\u001b[39m summary_info[\u001b[38;5;241m0\u001b[39m][\u001b[38;5;124m'\u001b[39m\u001b[38;5;124mcontent\u001b[39m\u001b[38;5;124m'\u001b[39m]\n\u001b[0;32m----> 3\u001b[0m completion \u001b[38;5;241m=\u001b[39m \u001b[43mopenai\u001b[49m\u001b[38;5;241;43m.\u001b[39;49m\u001b[43mChatCompletion\u001b[49m\u001b[38;5;241;43m.\u001b[39;49m\u001b[43mcreate\u001b[49m\u001b[43m(\u001b[49m\n\u001b[1;32m      4\u001b[0m \u001b[43mmodel\u001b[49m\u001b[38;5;241;43m=\u001b[39;49m\u001b[38;5;124;43m\"\u001b[39;49m\u001b[38;5;124;43mgpt-3.5-turbo\u001b[39;49m\u001b[38;5;124;43m\"\u001b[39;49m\u001b[43m,\u001b[49m\n\u001b[1;32m      5\u001b[0m \u001b[43mmessages\u001b[49m\u001b[38;5;241;43m=\u001b[39;49m\u001b[43mmessage\u001b[49m\u001b[43m)\u001b[49m\n\u001b[1;32m      6\u001b[0m content \u001b[38;5;241m=\u001b[39m completion\u001b[38;5;241m.\u001b[39mchoices[\u001b[38;5;241m0\u001b[39m]\u001b[38;5;241m.\u001b[39mmessage[\u001b[38;5;124m'\u001b[39m\u001b[38;5;124mcontent\u001b[39m\u001b[38;5;124m'\u001b[39m]\n\u001b[1;32m      7\u001b[0m \u001b[38;5;28mprint\u001b[39m(content)\n",
      "File \u001b[0;32m~/anaconda3/lib/python3.11/site-packages/openai/api_resources/chat_completion.py:25\u001b[0m, in \u001b[0;36mChatCompletion.create\u001b[0;34m(cls, *args, **kwargs)\u001b[0m\n\u001b[1;32m     23\u001b[0m \u001b[38;5;28;01mwhile\u001b[39;00m \u001b[38;5;28;01mTrue\u001b[39;00m:\n\u001b[1;32m     24\u001b[0m     \u001b[38;5;28;01mtry\u001b[39;00m:\n\u001b[0;32m---> 25\u001b[0m         \u001b[38;5;28;01mreturn\u001b[39;00m \u001b[38;5;28;43msuper\u001b[39;49m\u001b[43m(\u001b[49m\u001b[43m)\u001b[49m\u001b[38;5;241;43m.\u001b[39;49m\u001b[43mcreate\u001b[49m\u001b[43m(\u001b[49m\u001b[38;5;241;43m*\u001b[39;49m\u001b[43margs\u001b[49m\u001b[43m,\u001b[49m\u001b[43m \u001b[49m\u001b[38;5;241;43m*\u001b[39;49m\u001b[38;5;241;43m*\u001b[39;49m\u001b[43mkwargs\u001b[49m\u001b[43m)\u001b[49m\n\u001b[1;32m     26\u001b[0m     \u001b[38;5;28;01mexcept\u001b[39;00m TryAgain \u001b[38;5;28;01mas\u001b[39;00m e:\n\u001b[1;32m     27\u001b[0m         \u001b[38;5;28;01mif\u001b[39;00m timeout \u001b[38;5;129;01mis\u001b[39;00m \u001b[38;5;129;01mnot\u001b[39;00m \u001b[38;5;28;01mNone\u001b[39;00m \u001b[38;5;129;01mand\u001b[39;00m time\u001b[38;5;241m.\u001b[39mtime() \u001b[38;5;241m>\u001b[39m start \u001b[38;5;241m+\u001b[39m timeout:\n",
      "File \u001b[0;32m~/anaconda3/lib/python3.11/site-packages/openai/api_resources/abstract/engine_api_resource.py:155\u001b[0m, in \u001b[0;36mEngineAPIResource.create\u001b[0;34m(cls, api_key, api_base, api_type, request_id, api_version, organization, **params)\u001b[0m\n\u001b[1;32m    129\u001b[0m \u001b[38;5;129m@classmethod\u001b[39m\n\u001b[1;32m    130\u001b[0m \u001b[38;5;28;01mdef\u001b[39;00m \u001b[38;5;21mcreate\u001b[39m(\n\u001b[1;32m    131\u001b[0m     \u001b[38;5;28mcls\u001b[39m,\n\u001b[0;32m   (...)\u001b[0m\n\u001b[1;32m    138\u001b[0m     \u001b[38;5;241m*\u001b[39m\u001b[38;5;241m*\u001b[39mparams,\n\u001b[1;32m    139\u001b[0m ):\n\u001b[1;32m    140\u001b[0m     (\n\u001b[1;32m    141\u001b[0m         deployment_id,\n\u001b[1;32m    142\u001b[0m         engine,\n\u001b[0;32m   (...)\u001b[0m\n\u001b[1;32m    152\u001b[0m         api_key, api_base, api_type, api_version, organization, \u001b[38;5;241m*\u001b[39m\u001b[38;5;241m*\u001b[39mparams\n\u001b[1;32m    153\u001b[0m     )\n\u001b[0;32m--> 155\u001b[0m     response, _, api_key \u001b[38;5;241m=\u001b[39m \u001b[43mrequestor\u001b[49m\u001b[38;5;241;43m.\u001b[39;49m\u001b[43mrequest\u001b[49m\u001b[43m(\u001b[49m\n\u001b[1;32m    156\u001b[0m \u001b[43m        \u001b[49m\u001b[38;5;124;43m\"\u001b[39;49m\u001b[38;5;124;43mpost\u001b[39;49m\u001b[38;5;124;43m\"\u001b[39;49m\u001b[43m,\u001b[49m\n\u001b[1;32m    157\u001b[0m \u001b[43m        \u001b[49m\u001b[43murl\u001b[49m\u001b[43m,\u001b[49m\n\u001b[1;32m    158\u001b[0m \u001b[43m        \u001b[49m\u001b[43mparams\u001b[49m\u001b[38;5;241;43m=\u001b[39;49m\u001b[43mparams\u001b[49m\u001b[43m,\u001b[49m\n\u001b[1;32m    159\u001b[0m \u001b[43m        \u001b[49m\u001b[43mheaders\u001b[49m\u001b[38;5;241;43m=\u001b[39;49m\u001b[43mheaders\u001b[49m\u001b[43m,\u001b[49m\n\u001b[1;32m    160\u001b[0m \u001b[43m        \u001b[49m\u001b[43mstream\u001b[49m\u001b[38;5;241;43m=\u001b[39;49m\u001b[43mstream\u001b[49m\u001b[43m,\u001b[49m\n\u001b[1;32m    161\u001b[0m \u001b[43m        \u001b[49m\u001b[43mrequest_id\u001b[49m\u001b[38;5;241;43m=\u001b[39;49m\u001b[43mrequest_id\u001b[49m\u001b[43m,\u001b[49m\n\u001b[1;32m    162\u001b[0m \u001b[43m        \u001b[49m\u001b[43mrequest_timeout\u001b[49m\u001b[38;5;241;43m=\u001b[39;49m\u001b[43mrequest_timeout\u001b[49m\u001b[43m,\u001b[49m\n\u001b[1;32m    163\u001b[0m \u001b[43m    \u001b[49m\u001b[43m)\u001b[49m\n\u001b[1;32m    165\u001b[0m     \u001b[38;5;28;01mif\u001b[39;00m stream:\n\u001b[1;32m    166\u001b[0m         \u001b[38;5;66;03m# must be an iterator\u001b[39;00m\n\u001b[1;32m    167\u001b[0m         \u001b[38;5;28;01massert\u001b[39;00m \u001b[38;5;129;01mnot\u001b[39;00m \u001b[38;5;28misinstance\u001b[39m(response, OpenAIResponse)\n",
      "File \u001b[0;32m~/anaconda3/lib/python3.11/site-packages/openai/api_requestor.py:299\u001b[0m, in \u001b[0;36mAPIRequestor.request\u001b[0;34m(self, method, url, params, headers, files, stream, request_id, request_timeout)\u001b[0m\n\u001b[1;32m    278\u001b[0m \u001b[38;5;28;01mdef\u001b[39;00m \u001b[38;5;21mrequest\u001b[39m(\n\u001b[1;32m    279\u001b[0m     \u001b[38;5;28mself\u001b[39m,\n\u001b[1;32m    280\u001b[0m     method,\n\u001b[0;32m   (...)\u001b[0m\n\u001b[1;32m    287\u001b[0m     request_timeout: Optional[Union[\u001b[38;5;28mfloat\u001b[39m, Tuple[\u001b[38;5;28mfloat\u001b[39m, \u001b[38;5;28mfloat\u001b[39m]]] \u001b[38;5;241m=\u001b[39m \u001b[38;5;28;01mNone\u001b[39;00m,\n\u001b[1;32m    288\u001b[0m ) \u001b[38;5;241m-\u001b[39m\u001b[38;5;241m>\u001b[39m Tuple[Union[OpenAIResponse, Iterator[OpenAIResponse]], \u001b[38;5;28mbool\u001b[39m, \u001b[38;5;28mstr\u001b[39m]:\n\u001b[1;32m    289\u001b[0m     result \u001b[38;5;241m=\u001b[39m \u001b[38;5;28mself\u001b[39m\u001b[38;5;241m.\u001b[39mrequest_raw(\n\u001b[1;32m    290\u001b[0m         method\u001b[38;5;241m.\u001b[39mlower(),\n\u001b[1;32m    291\u001b[0m         url,\n\u001b[0;32m   (...)\u001b[0m\n\u001b[1;32m    297\u001b[0m         request_timeout\u001b[38;5;241m=\u001b[39mrequest_timeout,\n\u001b[1;32m    298\u001b[0m     )\n\u001b[0;32m--> 299\u001b[0m     resp, got_stream \u001b[38;5;241m=\u001b[39m \u001b[38;5;28;43mself\u001b[39;49m\u001b[38;5;241;43m.\u001b[39;49m\u001b[43m_interpret_response\u001b[49m\u001b[43m(\u001b[49m\u001b[43mresult\u001b[49m\u001b[43m,\u001b[49m\u001b[43m \u001b[49m\u001b[43mstream\u001b[49m\u001b[43m)\u001b[49m\n\u001b[1;32m    300\u001b[0m     \u001b[38;5;28;01mreturn\u001b[39;00m resp, got_stream, \u001b[38;5;28mself\u001b[39m\u001b[38;5;241m.\u001b[39mapi_key\n",
      "File \u001b[0;32m~/anaconda3/lib/python3.11/site-packages/openai/api_requestor.py:710\u001b[0m, in \u001b[0;36mAPIRequestor._interpret_response\u001b[0;34m(self, result, stream)\u001b[0m\n\u001b[1;32m    702\u001b[0m     \u001b[38;5;28;01mreturn\u001b[39;00m (\n\u001b[1;32m    703\u001b[0m         \u001b[38;5;28mself\u001b[39m\u001b[38;5;241m.\u001b[39m_interpret_response_line(\n\u001b[1;32m    704\u001b[0m             line, result\u001b[38;5;241m.\u001b[39mstatus_code, result\u001b[38;5;241m.\u001b[39mheaders, stream\u001b[38;5;241m=\u001b[39m\u001b[38;5;28;01mTrue\u001b[39;00m\n\u001b[1;32m    705\u001b[0m         )\n\u001b[1;32m    706\u001b[0m         \u001b[38;5;28;01mfor\u001b[39;00m line \u001b[38;5;129;01min\u001b[39;00m parse_stream(result\u001b[38;5;241m.\u001b[39miter_lines())\n\u001b[1;32m    707\u001b[0m     ), \u001b[38;5;28;01mTrue\u001b[39;00m\n\u001b[1;32m    708\u001b[0m \u001b[38;5;28;01melse\u001b[39;00m:\n\u001b[1;32m    709\u001b[0m     \u001b[38;5;28;01mreturn\u001b[39;00m (\n\u001b[0;32m--> 710\u001b[0m         \u001b[38;5;28;43mself\u001b[39;49m\u001b[38;5;241;43m.\u001b[39;49m\u001b[43m_interpret_response_line\u001b[49m\u001b[43m(\u001b[49m\n\u001b[1;32m    711\u001b[0m \u001b[43m            \u001b[49m\u001b[43mresult\u001b[49m\u001b[38;5;241;43m.\u001b[39;49m\u001b[43mcontent\u001b[49m\u001b[38;5;241;43m.\u001b[39;49m\u001b[43mdecode\u001b[49m\u001b[43m(\u001b[49m\u001b[38;5;124;43m\"\u001b[39;49m\u001b[38;5;124;43mutf-8\u001b[39;49m\u001b[38;5;124;43m\"\u001b[39;49m\u001b[43m)\u001b[49m\u001b[43m,\u001b[49m\n\u001b[1;32m    712\u001b[0m \u001b[43m            \u001b[49m\u001b[43mresult\u001b[49m\u001b[38;5;241;43m.\u001b[39;49m\u001b[43mstatus_code\u001b[49m\u001b[43m,\u001b[49m\n\u001b[1;32m    713\u001b[0m \u001b[43m            \u001b[49m\u001b[43mresult\u001b[49m\u001b[38;5;241;43m.\u001b[39;49m\u001b[43mheaders\u001b[49m\u001b[43m,\u001b[49m\n\u001b[1;32m    714\u001b[0m \u001b[43m            \u001b[49m\u001b[43mstream\u001b[49m\u001b[38;5;241;43m=\u001b[39;49m\u001b[38;5;28;43;01mFalse\u001b[39;49;00m\u001b[43m,\u001b[49m\n\u001b[1;32m    715\u001b[0m \u001b[43m        \u001b[49m\u001b[43m)\u001b[49m,\n\u001b[1;32m    716\u001b[0m         \u001b[38;5;28;01mFalse\u001b[39;00m,\n\u001b[1;32m    717\u001b[0m     )\n",
      "File \u001b[0;32m~/anaconda3/lib/python3.11/site-packages/openai/api_requestor.py:775\u001b[0m, in \u001b[0;36mAPIRequestor._interpret_response_line\u001b[0;34m(self, rbody, rcode, rheaders, stream)\u001b[0m\n\u001b[1;32m    773\u001b[0m stream_error \u001b[38;5;241m=\u001b[39m stream \u001b[38;5;129;01mand\u001b[39;00m \u001b[38;5;124m\"\u001b[39m\u001b[38;5;124merror\u001b[39m\u001b[38;5;124m\"\u001b[39m \u001b[38;5;129;01min\u001b[39;00m resp\u001b[38;5;241m.\u001b[39mdata\n\u001b[1;32m    774\u001b[0m \u001b[38;5;28;01mif\u001b[39;00m stream_error \u001b[38;5;129;01mor\u001b[39;00m \u001b[38;5;129;01mnot\u001b[39;00m \u001b[38;5;241m200\u001b[39m \u001b[38;5;241m<\u001b[39m\u001b[38;5;241m=\u001b[39m rcode \u001b[38;5;241m<\u001b[39m \u001b[38;5;241m300\u001b[39m:\n\u001b[0;32m--> 775\u001b[0m     \u001b[38;5;28;01mraise\u001b[39;00m \u001b[38;5;28mself\u001b[39m\u001b[38;5;241m.\u001b[39mhandle_error_response(\n\u001b[1;32m    776\u001b[0m         rbody, rcode, resp\u001b[38;5;241m.\u001b[39mdata, rheaders, stream_error\u001b[38;5;241m=\u001b[39mstream_error\n\u001b[1;32m    777\u001b[0m     )\n\u001b[1;32m    778\u001b[0m \u001b[38;5;28;01mreturn\u001b[39;00m resp\n",
      "\u001b[0;31mAPIError\u001b[0m: Bad gateway. {\"error\":{\"code\":502,\"message\":\"Bad gateway.\",\"param\":null,\"type\":\"cf_bad_gateway\"}} 502 {'error': {'code': 502, 'message': 'Bad gateway.', 'param': None, 'type': 'cf_bad_gateway'}} {'Date': 'Thu, 09 Nov 2023 14:16:24 GMT', 'Content-Type': 'application/json', 'Content-Length': '84', 'Connection': 'keep-alive', 'X-Frame-Options': 'SAMEORIGIN', 'Referrer-Policy': 'same-origin', 'Cache-Control': 'private, max-age=0, no-store, no-cache, must-revalidate, post-check=0, pre-check=0', 'Expires': 'Thu, 01 Jan 1970 00:00:01 GMT', 'Server': 'cloudflare', 'CF-RAY': '82369dbbbf5c0501-HKG', 'alt-svc': 'h3=\":443\"; ma=86400'}"
     ]
    }
   ],
   "source": [
    "message=[{\"role\": \"system\", \"content\": \" As a helpful assistant, your job is to summarize a student's personal experience essay using simple language and a first-person perspective. You will be given the essay and must provide a concise and clear summary from the author's point of view. Your summary should use the word \\\"I\\\" to reflect the author's perspective\"}, {\"role\": \"user\", \"content\": \"Title: Safeguarding Memories. Requirement : Common Application: Topic of Your Choice. Experience: I used to walk with my grandfather as a child, buying sweet buns from a cart. But as he developed Alzheimer's, he forgot who I was. This inspired me to start the War Stories Project, where we collect and preserve the memories of World War II witnesses. Now, as the coordinator, I interview survivors and manage the project. It's important to me because with each passing year, we lose more of these valuable witnesses. Remembering our history is crucial for our future.\"}]\n",
    "message[1]['content'] = summary_info[0]['content']\n",
    "completion = openai.ChatCompletion.create(\n",
    "model=\"gpt-3.5-turbo\",\n",
    "messages=message)\n",
    "content = completion.choices[0].message['content']\n",
    "print(content)\n",
    "# doc_list[10]['summary'] = content\n",
    "print('------------------')"
   ]
  },
  {
   "cell_type": "code",
   "execution_count": 18,
   "id": "2a5c845b-ce81-4535-9143-21b0e6adfe90",
   "metadata": {},
   "outputs": [
    {
     "name": "stdout",
     "output_type": "stream",
     "text": [
      "Safeguarding Memories: A Passion for Preserving History and Empathy for Others\n",
      "\n",
      "As I reflect on my journey thus far, I am reminded of the treasured memories from my childhood. One particular memory stands out vividly - walking with my beloved grandfather, hand in hand, as we eagerly sought out the sweetest buns from a local cart. However, over time, Alzheimer's cruelly began to strip away his memories, including the identity of his once adoring granddaughter. This heartbreaking experience served as a catalyst for my calling: to preserve and protect the memories and stories that define our history.\n",
      "\n",
      "Motivated by a deep-rooted passion to safeguard our shared past, I founded the War Stories Project. This initiative was born out of an urgent need to collect and archive the invaluable narratives of World War II witnesses before they fade away forever. As the dedicated coordinator of this project, I have had the humbling privilege of meeting and interviewing survivors who have personally endured the hardships and sacrifices of that era.\n",
      "\n",
      "Every interaction I have with these precious individuals underscores the importance of remembering. I have witnessed the profound impact that sharing their stories, often for the very first time, has on both the individuals themselves and the broader community. There is a sense of validation, healing, and closure that arises from acknowledging their experiences and recognizing the sacrifices they made for our freedom.\n",
      "\n",
      "Managing the War Stories Project is a responsibility I hold dear to my heart. It is more than just compiling facts and testimonies; it is about creating a safe space for individuals to open up and entrust me with their most precious memories. Each interview is an opportunity to bridge generations, fostering connection and understanding between the past and the present.\n",
      "\n",
      "The urgency of this undertaking cannot be overstated. With each passing day, we lose more World War II witnesses, and along with them, a wealth of knowledge, wisdom, and firsthand accounts. The safeguarding of their memories is not just a tribute to those who have served; it is an acknowledgement of the invaluable lessons we can learn from history. By preserving these stories, I hope to inspire future generations to appreciate the significance of empathy, heroism, and sacrifice.\n",
      "\n",
      "Through my involvement in the War Stories Project, I have come to understand that the act of preserving memories goes beyond archiving the past. It is about shaping our future. The stories of resilience and courage exhibited by these survivors serve as a constant reminder of our shared humanity and the importance of standing up for what is right - regardless of the challenges we face.\n",
      "\n",
      "My experiences have illuminated my path, proving to me that our histories deserve to be cherished and protected. My commitment to safeguarding these memories remains steadfast, and I am excited to continue expanding the reach and impact of the War Stories Project. I aspire to create a lasting legacy of empathy, understanding, and compassion that will reverberate through generations to come.\n",
      "\n",
      "As I embark on my academic journey, I yearn to immerse myself in a program that values the preservation of history and nurtures my desire to make a meaningful impact on society. I believe that by harnessing the power of storytelling, we can forge stronger connections and build a brighter future. With each interview I conduct, I am reminded of the transformative power of empathy and the capacity we all possess to make a difference.\n",
      "\n",
      "I am ready and eager to embrace the challenges and opportunities that lie ahead. By joining this study program, I hope to hone my skills, deepen my understanding, and cultivate lasting connections with like-minded individuals who share my passion for preserving and protecting our collective memories.\n",
      "\n",
      "Safeguarding our history is not just an endeavor; it is a calling that resonates deeply within me. I am ready to take the next step on this remarkable journey, armed with the determination, empathy, and unwavering commitment necessary to make a lasting impact. Together, let us unite in telling the stories that shape our world.\n",
      "------------------\n"
     ]
    }
   ],
   "source": [
    "completion = openai.ChatCompletion.create(\n",
    "model=\"gpt-3.5-turbo\",\n",
    "messages=[{\"role\": \"system\", \"content\": \" As a helpful assistant, your task is to write an impressive personal statement for a student who is applying for a study program. You will be provided with a title, requirements, and the user's experience to base your essay on. Your goal is to showcase the student's good character in a polished and compelling manner. To accurately reflect the author's point of view, you should use a first-person perspective and incorporate the word \\\"I\\\" throughout the essay.\"}, {\"role\": \"user\", \"content\": \"Title: Safeguarding Memories. Requirement : Common Application: Topic of Your Choice. Experience: I used to walk with my grandfather as a child, buying sweet buns from a cart. But as he developed Alzheimer's, he forgot who I was. This inspired me to start the War Stories Project, where we collect and preserve the memories of World War II witnesses. Now, as the coordinator, I interview survivors and manage the project. It's important to me because with each passing year, we lose more of these valuable witnesses. Remembering our history is crucial for our future.\"}])\n",
    "content = completion.choices[0].message['content']\n",
    "print(content)\n",
    "# doc_list[10]['summary'] = content\n",
    "print('------------------')"
   ]
  },
  {
   "cell_type": "code",
   "execution_count": 23,
   "id": "603828f8-9379-456c-a0c2-64c84d7493db",
   "metadata": {},
   "outputs": [
    {
     "data": {
      "text/plain": [
       "10"
      ]
     },
     "execution_count": 23,
     "metadata": {},
     "output_type": "execute_result"
    }
   ],
   "source": [
    "len(doc_list)"
   ]
  },
  {
   "cell_type": "code",
   "execution_count": 24,
   "id": "fc670ee7-486a-4a44-81d2-2c06909fa160",
   "metadata": {},
   "outputs": [],
   "source": [
    "\n",
    "with jsonlines.open('data/summary_info_new.jsonl',mode='a') as writer:\n",
    "    for item in doc_list:\n",
    "        writer.write(item)"
   ]
  },
  {
   "cell_type": "code",
   "execution_count": 14,
   "id": "ef8b227f-4546-4ea5-8872-fe40bc04f177",
   "metadata": {},
   "outputs": [],
   "source": [
    "template = {\"messages\": [{\"role\": \"system\", \"content\": \" As a helpful assistant, your task is to write an impressive personal statement for a student who is applying for a study program. You will be provided with a title, requirements, and the user's experience to base your essay on. Your goal is to showcase the student's good character in a polished and compelling manner. To accurately reflect the author's point of view, you should use a first-person perspective and incorporate the word \\\"I\\\" throughout the essay.\"}, \n",
    "                         {\"role\": \"user\", \"content\": ''}, \n",
    "                         {\"role\": \"assistant\", \"content\": ''}]}\n",
    "summary_info = []\n",
    "with open(\"data/summary_info.jsonl\", \"r+\", encoding=\"utf8\") as f:\n",
    "    for item in jsonlines.Reader(f):\n",
    "        summary_info.append(item)\n",
    "\n"
   ]
  },
  {
   "cell_type": "code",
   "execution_count": 16,
   "id": "9bd73980-81de-4f52-a73d-4d7728bdad19",
   "metadata": {},
   "outputs": [],
   "source": [
    "item = summary_info[0]\n",
    "with jsonlines.open('data/validation.jsonl',mode='a') as writer:\n",
    "    template_user_content = \"Title: \" + item['title'] + \". Requirement : \" + item['description'] + '. Experience: ' + item['summary']\n",
    "    template[\"messages\"][1][\"content\"] = template_user_content\n",
    "    template[\"messages\"][2][\"content\"] = item['content']\n",
    "    writer.write(template)"
   ]
  }
 ],
 "metadata": {
  "kernelspec": {
   "display_name": "Python 3 (ipykernel)",
   "language": "python",
   "name": "python3"
  },
  "language_info": {
   "codemirror_mode": {
    "name": "ipython",
    "version": 3
   },
   "file_extension": ".py",
   "mimetype": "text/x-python",
   "name": "python",
   "nbconvert_exporter": "python",
   "pygments_lexer": "ipython3",
   "version": "3.11.6"
  }
 },
 "nbformat": 4,
 "nbformat_minor": 5
}
